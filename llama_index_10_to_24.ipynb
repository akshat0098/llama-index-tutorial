{
 "cells": [
  {
   "cell_type": "code",
   "execution_count": 2,
   "id": "f47b94bb-6c40-4aff-81e2-a19a4045c2a0",
   "metadata": {},
   "outputs": [
    {
     "ename": "ModuleNotFoundError",
     "evalue": "No module named 'llama_index'",
     "output_type": "error",
     "traceback": [
      "\u001b[0;31m---------------------------------------------------------------------------\u001b[0m",
      "\u001b[0;31mModuleNotFoundError\u001b[0m                       Traceback (most recent call last)",
      "Cell \u001b[0;32mIn[2], line 1\u001b[0m\n\u001b[0;32m----> 1\u001b[0m \u001b[38;5;28;01mimport\u001b[39;00m \u001b[38;5;21;01mllama_index\u001b[39;00m\n",
      "\u001b[0;31mModuleNotFoundError\u001b[0m: No module named 'llama_index'"
     ]
    }
   ],
   "source": [
    "import llama_index"
   ]
  },
  {
   "cell_type": "code",
   "execution_count": 3,
   "id": "5d950171-6ae9-442e-87a2-45ed7c3d8583",
   "metadata": {},
   "outputs": [
    {
     "name": "stdout",
     "output_type": "stream",
     "text": [
      "\u001b[?25l'llama-index' already seems to be installed. Not modifying existing\n",
      "installation in '/Users/akshatsrivastava/.local/pipx/venvs/llama-index'. Pass\n",
      "'--force' to force installation.\n",
      "\u001b[?25h"
     ]
    }
   ],
   "source": [
    "!pipx install llama_index\n"
   ]
  },
  {
   "cell_type": "code",
   "execution_count": null,
   "id": "a709ff53-53bf-4880-a74d-4a0e56672977",
   "metadata": {},
   "outputs": [],
   "source": []
  }
 ],
 "metadata": {
  "kernelspec": {
   "display_name": "Python 3 (ipykernel)",
   "language": "python",
   "name": "python3"
  },
  "language_info": {
   "codemirror_mode": {
    "name": "ipython",
    "version": 3
   },
   "file_extension": ".py",
   "mimetype": "text/x-python",
   "name": "python",
   "nbconvert_exporter": "python",
   "pygments_lexer": "ipython3",
   "version": "3.11.9"
  }
 },
 "nbformat": 4,
 "nbformat_minor": 5
}
